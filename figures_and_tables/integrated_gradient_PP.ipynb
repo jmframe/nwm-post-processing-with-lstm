{
 "cells": [
  {
   "cell_type": "code",
   "execution_count": 1,
   "metadata": {},
   "outputs": [],
   "source": [
    "# Imports\n",
    "import json\n",
    "import numpy as np\n",
    "import pandas as pd\n",
    "import pickle as pkl\n",
    "import datetime as dt\n",
    "import random\n",
    "import sys\n",
    "import os.path\n",
    "from os import path\n",
    "import torch\n",
    "from torch.utils.data import DataLoader\n",
    "from pathlib import Path\n",
    "#plotting\n",
    "import matplotlib.pyplot as plt\n",
    "import matplotlib.dates as mdates\n",
    "import matplotlib as mpl\n",
    "from mpl_toolkits.axes_grid1 import make_axes_locatable\n",
    "import pylab\n",
    "from pylab import cm\n",
    "from matplotlib import colors as mcol\n",
    "\n",
    "# For the regression.\n",
    "import scipy\n",
    "from scipy import stats\n",
    "from sklearn.model_selection import KFold\n",
    "from sklearn.gaussian_process import GaussianProcessRegressor\n",
    "from sklearn.gaussian_process.kernels import Matern, WhiteKernel, RBF, ConstantKernel as C\n",
    "from sklearn.metrics import r2_score\n",
    "from netCDF4 import Dataset as NetCDFFile\n",
    "\n",
    "sys.path.insert(1, '/home/NearingLab/projects/jmframe/lstm_camels_NWM_post_processing_paper_july2020/tools/')\n",
    "import metrics\n",
    "import signatures\n",
    "from xarray.core.dataarray import DataArray"
   ]
  },
  {
   "cell_type": "code",
   "execution_count": 2,
   "metadata": {},
   "outputs": [],
   "source": [
    "# To make plots dynamic\n",
    "#%matplotlib notebook\n",
    "#%matplotlib notebook"
   ]
  },
  {
   "cell_type": "code",
   "execution_count": 3,
   "metadata": {},
   "outputs": [],
   "source": [
    "MAIN_DIR = \"/home/NearingLab/projects/jmframe/lstm_camels_NWM_post_processing_paper_july2020/\"\n",
    "ig_dir = MAIN_DIR+'igs/'\n",
    "IG_DIR = Path(ig_dir)\n",
    "# Path to the main data folder\n",
    "data_dir = MAIN_DIR+'data/'\n",
    "DATA_DIR = Path(data_dir)\n",
    "# Path to the main CAMELS folder\n",
    "CAMELS_DIR = MAIN_DIR\n",
    "# Path to the main directory of this repository\n",
    "BASE_CODE_DIR = MAIN_DIR + 'papercode/'\n",
    "# Needed if no precomputed results are used. Path to a single run\n",
    "BASE_RUN_DIR = MAIN_DIR+'runs/run_statesplus_83357'\n",
    "# Convert to PosixPaths\n",
    "CAMELS_DIR = Path(CAMELS_DIR)\n",
    "BASE_RUN_DIR = Path(BASE_RUN_DIR)"
   ]
  },
  {
   "cell_type": "code",
   "execution_count": 4,
   "metadata": {},
   "outputs": [],
   "source": [
    "# Start and end date of the validation period\n",
    "VAL_START = pd.to_datetime('01101994', format='%d%m%Y')\n",
    "VAL_END = pd.to_datetime('30092003', format='%d%m%Y')\n",
    "date_range = pd.date_range(start=VAL_START, end=VAL_END)\n",
    "n_dates = date_range.shape[0]"
   ]
  },
  {
   "cell_type": "code",
   "execution_count": 5,
   "metadata": {},
   "outputs": [],
   "source": [
    "sys.path.append(MAIN_DIR)\n",
    "sys.path.append(BASE_CODE_DIR)\n",
    "from main_nwmlstm import Model\n",
    "from papercode.utils import get_basin_list\n",
    "from papercode.datautils import load_attributes"
   ]
  },
  {
   "cell_type": "code",
   "execution_count": 6,
   "metadata": {},
   "outputs": [
    {
     "name": "stdout",
     "output_type": "stream",
     "text": [
      "cpu\n"
     ]
    }
   ],
   "source": [
    "# Use GPU if available\n",
    "DEVICE = torch.device(\"cuda:0\" if torch.cuda.is_available() else \"cpu\") \n",
    "print(DEVICE)"
   ]
  },
  {
   "cell_type": "code",
   "execution_count": 7,
   "metadata": {},
   "outputs": [],
   "source": [
    "# get list of modeled basins\n",
    "basins = get_basin_list()\n",
    "basins_int=[]\n",
    "for b in basins:\n",
    "    basins_int.append(int(b))\n",
    "nbasins=len(basins)"
   ]
  },
  {
   "cell_type": "code",
   "execution_count": 8,
   "metadata": {},
   "outputs": [],
   "source": [
    "# load run config\n",
    "with open(BASE_RUN_DIR / \"cfg.json\", \"r\") as fp:\n",
    "    cfg = json.load(fp)\n",
    "# load means/stds from training period\n",
    "df_att = load_attributes(db_path=str(BASE_RUN_DIR / \"attributes.db\"), \n",
    "                             basins=basins,\n",
    "                             keep_features=cfg[\"camels_attr\"],\n",
    "                             drop_lat_lon=False)"
   ]
  },
  {
   "cell_type": "code",
   "execution_count": 9,
   "metadata": {},
   "outputs": [
    {
     "name": "stdout",
     "output_type": "stream",
     "text": [
      "initializing model ...\n",
      "finished initializing model\n",
      "loading model ...\n",
      "finished loading model\n"
     ]
    }
   ],
   "source": [
    "# Initialize new model\n",
    "print('initializing model ...')\n",
    "model = Model(input_size_dyn=44,\n",
    "              input_size_stat=0,\n",
    "              hidden_size=cfg[\"hidden_size\"],\n",
    "              dropout=cfg[\"dropout\"]).to(DEVICE)\n",
    "print('finished initializing model')\n",
    "\n",
    "# load pre-trained weights\n",
    "print('loading model ...')\n",
    "weight_file = BASE_RUN_DIR / \"model_epoch30.pt\"\n",
    "model.load_state_dict(torch.load(weight_file, map_location=DEVICE))\n",
    "print('finished loading model')"
   ]
  },
  {
   "cell_type": "code",
   "execution_count": 10,
   "metadata": {},
   "outputs": [
    {
     "name": "stdout",
     "output_type": "stream",
     "text": [
      "loading scaler ...\n",
      "finished loading scaler\n"
     ]
    }
   ],
   "source": [
    "# load scaler\n",
    "print('loading scaler ...')\n",
    "with open(CAMELS_DIR / \"hdf_files/scaler_nwm_v2.p\", 'rb') as f:\n",
    "    scaler = pkl.load(f)\n",
    "scaler[\"camels_attr_mean\"] = df_att.mean()\n",
    "scaler[\"camels_attr_std\"] = df_att.std()\n",
    "print('finished loading scaler')"
   ]
  },
  {
   "cell_type": "code",
   "execution_count": 11,
   "metadata": {},
   "outputs": [
    {
     "name": "stdout",
     "output_type": "stream",
     "text": [
      "['p_mean_dyn', 'pet_mean_dyn', 'aridity_dyn', 't_mean_dyn', 'frac_snow_dyn', 'high_prec_freq_dyn', 'high_prec_dur_dyn', 'low_prec_freq_dyn', 'low_prec_dur_dyn', 'PET(mm/d)', 'streamflow', 'q_lateral', 'velocity', 'qSfcLatRunoff', 'qBucket', 'qBtmVertRunoff', 'ACCET', 'FIRA', 'FSA', 'FSNO', 'HFX', 'LH', 'SNEQV', 'SNOWH', 'SOIL_M1', 'SOIL_M2', 'SOIL_M3', 'SOIL_M4', 'SOIL_W1', 'SOIL_W2', 'SOIL_W3', 'SOIL_W4', 'TRAD', 'UGDRNOFF', 'mean_sfcheadsubrt', 'mean_zwattablrt', 'max_sfcheadsubrt', 'max_zwattablrt']\n"
     ]
    }
   ],
   "source": [
    "# get additional static inputs\n",
    "file_name = Path(MAIN_DIR) / 'data' / 'dynamic_features_nwm_v2.p'\n",
    "with file_name.open(\"rb\") as fp:\n",
    "    additional_features = pkl.load(fp)\n",
    "additional_features_list = list(additional_features[basins[0]].columns.values)\n",
    "print(additional_features_list)"
   ]
  },
  {
   "cell_type": "code",
   "execution_count": 12,
   "metadata": {},
   "outputs": [],
   "source": [
    "camels_attr = ['elev_mean', 'slope_mean', 'area_gages2', 'frac_forest',\n",
    "             'lai_max', 'lai_diff', 'gvf_max', 'gvf_diff',\n",
    "             'soil_depth_pelletier', 'soil_depth_statsgo', 'soil_porosity', 'soil_conductivity',\n",
    "             'max_water_content', 'sand_frac', 'silt_frac', 'clay_frac',\n",
    "             'carbonate_rocks_frac', 'geol_permeability']\n",
    "#dynamic_inputs_orig = ['PRCP(mm/day)','Tmax', 'Tmim','SRAD', 'Vp']"
   ]
  },
  {
   "cell_type": "code",
   "execution_count": 13,
   "metadata": {},
   "outputs": [],
   "source": [
    "pd_date_range = pd.date_range(VAL_START, VAL_END)\n",
    "n_times = pd_date_range.shape[0]"
   ]
  },
  {
   "cell_type": "code",
   "execution_count": 14,
   "metadata": {},
   "outputs": [],
   "source": [
    "# the features of the model are some attributes, meteorlogical inputes and NWM CHRT+LDAS\n",
    "nwm_features = ['q_lateral', 'qSfcLatRunoff', 'qBucket', 'qBtmVertRunoff', \n",
    "               'ACCET', 'FIRA', 'FSA', 'FSNO', 'HFX', 'LH', 'SNEQV', 'SNOWH', \n",
    "               'SOIL_M1', 'SOIL_M2', 'SOIL_M3', 'SOIL_M4', 'SOIL_W1', 'SOIL_W2', 'SOIL_W3', 'SOIL_W4', \n",
    "               'TRAD', 'UGDRNOFF', \n",
    "               'mean_sfcheadsubrt', 'mean_zwattablrt', 'max_sfcheadsubrt', 'max_zwattablrt']\n",
    "model_features= nwm_features + camels_attr\n",
    "feature_source = ['nwm'] * len(nwm_features) + \\\n",
    "                 ['cam'] * len(camels_attr)\n",
    "plt_labels_all = [feature_source[i]+'_'+model_features[i] for i in range(len(model_features))]"
   ]
  },
  {
   "cell_type": "code",
   "execution_count": 15,
   "metadata": {},
   "outputs": [
    {
     "data": {
      "text/plain": [
       "['q_lateral',\n",
       " 'qSfcLatRunoff',\n",
       " 'qBucket',\n",
       " 'qBtmVertRunoff',\n",
       " 'ACCET',\n",
       " 'FIRA',\n",
       " 'FSA',\n",
       " 'FSNO',\n",
       " 'HFX',\n",
       " 'LH',\n",
       " 'SNEQV',\n",
       " 'SNOWH',\n",
       " 'SOIL_M1',\n",
       " 'SOIL_M2',\n",
       " 'SOIL_M3',\n",
       " 'SOIL_M4',\n",
       " 'SOIL_W1',\n",
       " 'SOIL_W2',\n",
       " 'SOIL_W3',\n",
       " 'SOIL_W4',\n",
       " 'TRAD',\n",
       " 'UGDRNOFF',\n",
       " 'mean_sfcheadsubrt',\n",
       " 'mean_zwattablrt',\n",
       " 'max_sfcheadsubrt',\n",
       " 'max_zwattablrt',\n",
       " 'elev_mean',\n",
       " 'slope_mean',\n",
       " 'area_gages2',\n",
       " 'frac_forest',\n",
       " 'lai_max',\n",
       " 'lai_diff',\n",
       " 'gvf_max']"
      ]
     },
     "execution_count": 15,
     "metadata": {},
     "output_type": "execute_result"
    }
   ],
   "source": [
    "model_features[0:33]"
   ]
  },
  {
   "cell_type": "code",
   "execution_count": 16,
   "metadata": {},
   "outputs": [],
   "source": [
    "# The integrated gradients are in a np.arrat with dimensions\n",
    "# 1: prediction dates\n",
    "# 2: lagging time before prediction\n",
    "# 3: model features"
   ]
  },
  {
   "cell_type": "code",
   "execution_count": 17,
   "metadata": {},
   "outputs": [],
   "source": [
    "calculate_sums = True\n",
    "dump_sums = True\n",
    "if calculate_sums:\n",
    "    random_basins = basins\n",
    "    random.shuffle(random_basins)\n",
    "    numb = 0\n",
    "    for b in random_basins:\n",
    "\n",
    "        # Check that the IGs have been calculated.\n",
    "        fname = MAIN_DIR+'igs/'+b+'_NWM_states_plus_ONLY.p'\n",
    "        if not path.exists(fname):\n",
    "            continue\n",
    "\n",
    "        # Count the number of basins processed\n",
    "        numb+=1\n",
    "\n",
    "        # Open the integrated gradients data\n",
    "        with open(fname,'rb') as f:\n",
    "            basin_igs = pkl.load(f)\n",
    "\n",
    "        # Calculate the sums\n",
    "        # Sum across time\n",
    "        ig_sum_time = np.sum(np.absolute(basin_igs), axis=0)\n",
    "        # Sum across lookback\n",
    "        ig_sum_lookback = np.sum(np.absolute(basin_igs), axis=1)\n",
    "        # Sum across lookback, then time\n",
    "        ig_sum_lookback_time = np.sum(np.sum(np.absolute(basin_igs), axis=1), axis=0)\n",
    "        # Sum across lookback, then features\n",
    "        ig_sum_lookback_feature = np.sum(np.sum(np.absolute(basin_igs), axis=1), axis=1)\n",
    "\n",
    "        if numb == 1:\n",
    "            all_ig_sum_lookback_time = ig_sum_lookback_time\n",
    "            all_ig_sum_lookback_feature = ig_sum_lookback_feature\n",
    "        else:\n",
    "            all_ig_sum_lookback_time = np.append(all_ig_sum_lookback_time, ig_sum_lookback_time, axis=0)\n",
    "            all_ig_sum_lookback_feature = np.append(all_ig_sum_lookback_feature, ig_sum_lookback_feature, axis=0)\n",
    "            \n",
    "    # Reshape numpy to have all the columns line up\n",
    "    all_ig_sum_lookback_time_reshaped = all_ig_sum_lookback_time.reshape(numb, basin_igs.shape[2])\n",
    "    all_ig_sum_lookback_feature_reshaped = all_ig_sum_lookback_feature.reshape(numb, basin_igs.shape[0])\n",
    "    \n",
    "    if dump_sums:\n",
    "        # Save values to pickle file\n",
    "        with open(MAIN_DIR+'igs/sum_all_ig_lookback_time_SPlus.p','wb') as f:\n",
    "            pkl.dump(all_ig_sum_lookback_time_reshaped, f)\n",
    "        with open(MAIN_DIR+'igs/sum_all_ig_lookback_feature_SPlus.p','wb') as f:\n",
    "            pkl.dump(all_ig_sum_lookback_feature_reshaped, f)\n",
    "else:\n",
    "    # Open pickle file with values\n",
    "    with open(MAIN_DIR+'igs/sum_all_ig_lookback_time_SPlus.p','rb') as f:\n",
    "        all_ig_sum_lookback_time_reshaped = pkl.load(f)\n",
    "    # Open pickle file with values\n",
    "    with open(MAIN_DIR+'igs/sum_all_ig_lookback_feature_SPlus.p','rb') as f:\n",
    "        all_ig_sum_lookback_feature_reshaped = pkl.load(f)"
   ]
  },
  {
   "cell_type": "code",
   "execution_count": 18,
   "metadata": {},
   "outputs": [
    {
     "name": "stdout",
     "output_type": "stream",
     "text": [
      "(78, 44)\n",
      "(78, 3287)\n"
     ]
    }
   ],
   "source": [
    "print(all_ig_sum_lookback_time_reshaped.shape)\n",
    "print(all_ig_sum_lookback_feature_reshaped.shape)"
   ]
  },
  {
   "cell_type": "code",
   "execution_count": 19,
   "metadata": {},
   "outputs": [
    {
     "name": "stdout",
     "output_type": "stream",
     "text": [
      "Nan at:  0\n",
      "Nan at:  10\n",
      "Nan at:  11\n",
      "Nan at:  20\n",
      "Nan at:  28\n",
      "Nan at:  41\n",
      "Nan at:  48\n",
      "Nan at:  54\n",
      "Nan at:  64\n",
      "Nan at:  68\n"
     ]
    }
   ],
   "source": [
    "no_nan = []\n",
    "for i in range(all_ig_sum_lookback_time_reshaped.shape[0]):\n",
    "    if np.isnan(np.sum(all_ig_sum_lookback_time_reshaped[i])):\n",
    "        print('Nan at: ',i)\n",
    "    else:\n",
    "        no_nan.append(i)"
   ]
  },
  {
   "cell_type": "code",
   "execution_count": 20,
   "metadata": {
    "scrolled": false
   },
   "outputs": [],
   "source": [
    "# Now get the sums\n",
    "sum_all_ig_pred_t = np.nansum(np.absolute(all_ig_sum_lookback_time_reshaped[no_nan,:]), axis=0)"
   ]
  },
  {
   "cell_type": "code",
   "execution_count": 21,
   "metadata": {},
   "outputs": [],
   "source": [
    "# Set up a sorted data frame\n",
    "n_features = 44\n",
    "d={'ig_pred_t':sum_all_ig_pred_t,#[0:n_features], \n",
    "   'model_features':model_features,#[0:n_features], \n",
    "   'feature_source':feature_source}#[0:n_features]}\n",
    "df = pd.DataFrame(d)\n",
    "df.set_index('model_features')\n",
    "df = df.sort_values('ig_pred_t')"
   ]
  },
  {
   "cell_type": "code",
   "execution_count": 22,
   "metadata": {},
   "outputs": [],
   "source": [
    "nwm_states =  ['ACCET', 'FSNO', 'SNOWH', \n",
    "               'SOIL_M1', 'SOIL_M2', 'SOIL_M3', 'SOIL_M4', 'SOIL_W1', 'SOIL_W2', 'SOIL_W3', 'SOIL_W4', \n",
    "               'TRAD', 'UGDRNOFF', \n",
    "               'mean_sfcheadsubrt', 'mean_zwattablrt', 'max_sfcheadsubrt', 'max_zwattablrt']"
   ]
  },
  {
   "cell_type": "code",
   "execution_count": 23,
   "metadata": {},
   "outputs": [],
   "source": [
    "for i in range(df.shape[0]):\n",
    "    if df.iloc[i].feature_source == 'nwm':\n",
    "        if df.iloc[i].model_features in nwm_states:\n",
    "            df.iloc[i,2] = 'nwm_state'\n",
    "        else:\n",
    "            df.iloc[i,2] = 'nwm_flux'"
   ]
  },
  {
   "cell_type": "code",
   "execution_count": 24,
   "metadata": {},
   "outputs": [],
   "source": [
    "# Get rid of static catchment attributes\n",
    "#df = df[df.feature_source != 'cam']"
   ]
  },
  {
   "cell_type": "code",
   "execution_count": 25,
   "metadata": {},
   "outputs": [
    {
     "name": "stderr",
     "output_type": "stream",
     "text": [
      "/home/jmframe/programs/anaconda3/lib/python3.7/site-packages/pandas/plotting/_matplotlib/core.py:575: UserWarning: The handle <BarContainer object of 44 artists> has a label of '_nolegend_' which cannot be automatically added to the legend.\n",
      "  ax.legend(handles, labels, loc=\"best\", title=title)\n"
     ]
    },
    {
     "data": {
      "image/png": "[encoded data removed]",
      "text/plain": [
       "<Figure size 468x289.44 with 1 Axes>"
      ]
     },
     "metadata": {
      "needs_background": "light"
     },
     "output_type": "display_data"
    }
   ],
   "source": [
    "# get the colors based on the feature source\n",
    "# grab colors for manual plotting\n",
    "prop_cycle = plt.rcParams['axes.prop_cycle']\n",
    "colors = prop_cycle.by_key()['color']\n",
    "colorz=[]\n",
    "for cfs in df.feature_source:\n",
    "    if cfs == 'atm':\n",
    "        colorz.append(colors[1])\n",
    "    if cfs == 'nwm_state':\n",
    "        colorz.append(colors[0])\n",
    "    if cfs == 'nwm_flux':\n",
    "        colorz.append(colors[2])\n",
    "    if cfs == 'cam':\n",
    "        colorz.append(colors[3])\n",
    "\n",
    "# Make a good looking plot\n",
    "mpl.rcParams.update({'font.size': 9})\n",
    "fig, ax = plt.subplots(figsize=(6.5,4.02))\n",
    "df.plot(kind='bar', x='model_features', y='ig_pred_t', ax=ax, \\\n",
    "        color=colorz, label='_nolegend_')\n",
    "plt.ylabel('Relative integrated gradient')\n",
    "plt.xlabel('')\n",
    "ax.grid(b=None, which='major', axis='y')\n",
    "ax.set_yticklabels([])\n",
    "ax.tick_params(direction='in', length=0, width=0, colors='k',\n",
    "              grid_color='k', grid_alpha=0.5)\n",
    "\n",
    "labelz = ['NWM States','NWM Fluxes', 'catchment characteristics']\n",
    "colorz = [colors[0], colors[2], colors[3]]\n",
    "for ilab, icol in zip(labelz,colorz):\n",
    "    #Plot invisible bar graph but have the legends specified\n",
    "    ax.bar(model_features, sum_all_ig_pred_t,width=0,color=icol,label=ilab)\n",
    "ax.legend(loc='upper left')\n",
    "#plt.title('Input attributions for LSTM+NWM post processor predictions')\n",
    "plt.tight_layout()\n",
    "#plt.savefig(MAIN_DIR+'igs_plots/igs_bar_all.png')\n",
    "plt.show()\n",
    "plt.close()"
   ]
  },
  {
   "cell_type": "code",
   "execution_count": 26,
   "metadata": {},
   "outputs": [],
   "source": [
    "df=df.reset_index()"
   ]
  },
  {
   "cell_type": "code",
   "execution_count": 27,
   "metadata": {},
   "outputs": [
    {
     "name": "stderr",
     "output_type": "stream",
     "text": [
      "/home/jmframe/programs/anaconda3/lib/python3.7/site-packages/ipykernel_launcher.py:9: FutureWarning: Sorting because non-concatenation axis is not aligned. A future version\n",
      "of pandas will change to not sort by default.\n",
      "\n",
      "To accept the future behavior, pass 'sort=False'.\n",
      "\n",
      "To retain the current behavior and silence the warning, pass 'sort=True'.\n",
      "\n",
      "  if __name__ == '__main__':\n",
      "/home/jmframe/programs/anaconda3/lib/python3.7/site-packages/ipykernel_launcher.py:13: FutureWarning: Sorting because non-concatenation axis is not aligned. A future version\n",
      "of pandas will change to not sort by default.\n",
      "\n",
      "To accept the future behavior, pass 'sort=False'.\n",
      "\n",
      "To retain the current behavior and silence the warning, pass 'sort=True'.\n",
      "\n",
      "  del sys.path[0]\n",
      "/home/jmframe/programs/anaconda3/lib/python3.7/site-packages/ipykernel_launcher.py:17: FutureWarning: Sorting because non-concatenation axis is not aligned. A future version\n",
      "of pandas will change to not sort by default.\n",
      "\n",
      "To accept the future behavior, pass 'sort=False'.\n",
      "\n",
      "To retain the current behavior and silence the warning, pass 'sort=True'.\n",
      "\n",
      "/home/jmframe/programs/anaconda3/lib/python3.7/site-packages/ipykernel_launcher.py:21: FutureWarning: Sorting because non-concatenation axis is not aligned. A future version\n",
      "of pandas will change to not sort by default.\n",
      "\n",
      "To accept the future behavior, pass 'sort=False'.\n",
      "\n",
      "To retain the current behavior and silence the warning, pass 'sort=True'.\n",
      "\n"
     ]
    }
   ],
   "source": [
    "df = df.set_index('model_features')\n",
    "df_slim = df.copy(deep=True)\n",
    "df_slim = df_slim.drop(['mean_sfcheadsubrt','max_sfcheadsubrt','mean_zwattablrt','max_zwattablrt'], axis=0)\n",
    "df_slim = df_slim.drop(['SOIL_M1', 'SOIL_M2', 'SOIL_M3', 'SOIL_M4'], axis=0)\n",
    "df_slim = df_slim.drop(['SOIL_W1', 'SOIL_W2', 'SOIL_W3', 'SOIL_W4'], axis=0)\n",
    "\n",
    "temp_mean=df.loc[('max_sfcheadsubrt','mean_sfcheadsubrt'),'ig_pred_t'].mean()\n",
    "sfc = pd.DataFrame({'ig_pred_t':temp_mean,'feature_source':'nwm_state'}, index=['sfcheadsubrt'])\n",
    "df_slim = pd.concat([df_slim, sfc])\n",
    "\n",
    "temp_mean=df.loc[('max_zwattablrt','mean_zwattablrt'),'ig_pred_t'].mean()\n",
    "zwa = pd.DataFrame({'ig_pred_t':temp_mean,'feature_source':'nwm_state'}, index=['zwattablrt'])\n",
    "df_slim = pd.concat([df_slim, zwa])\n",
    "\n",
    "temp_mean=df.loc[('SOIL_M1', 'SOIL_M2', 'SOIL_M3', 'SOIL_M4'),'ig_pred_t'].mean()\n",
    "sm = pd.DataFrame({'ig_pred_t':temp_mean,'feature_source':'nwm_state'}, index=['SOIL_M'])\n",
    "df_slim = pd.concat([df_slim, sm])\n",
    "\n",
    "temp_mean=df.loc[('SOIL_W1', 'SOIL_W2', 'SOIL_W3', 'SOIL_W4'),'ig_pred_t'].mean()\n",
    "sw = pd.DataFrame({'ig_pred_t':temp_mean,'feature_source':'nwm_state'}, index=['SOIL_W'])\n",
    "df_slim = pd.concat([df_slim, sw])\n",
    "\n",
    "df=df.reset_index()\n",
    "df_slim.index.names = ['model_features']\n",
    "df_slim = df_slim.sort_values('ig_pred_t')\n",
    "df_slim=df_slim.reset_index()\n",
    "\n",
    "# Get rid of static catchment attributes\n",
    "#df_slim = df_slim[df_slim.feature_source != 'cam']\n"
   ]
  },
  {
   "cell_type": "code",
   "execution_count": 28,
   "metadata": {},
   "outputs": [
    {
     "data": {
      "text/html": [
       "<div>\n",
       "<style scoped>\n",
       "    .dataframe tbody tr th:only-of-type {\n",
       "        vertical-align: middle;\n",
       "    }\n",
       "\n",
       "    .dataframe tbody tr th {\n",
       "        vertical-align: top;\n",
       "    }\n",
       "\n",
       "    .dataframe thead th {\n",
       "        text-align: right;\n",
       "    }\n",
       "</style>\n",
       "<table border=\"1\" class=\"dataframe\">\n",
       "  <thead>\n",
       "    <tr style=\"text-align: right;\">\n",
       "      <th></th>\n",
       "      <th>model_features</th>\n",
       "      <th>ig_pred_t</th>\n",
       "      <th>feature_source</th>\n",
       "    </tr>\n",
       "  </thead>\n",
       "  <tbody>\n",
       "    <tr>\n",
       "      <td>0</td>\n",
       "      <td>sfcheadsubrt</td>\n",
       "      <td>42624.421326</td>\n",
       "      <td>nwm</td>\n",
       "    </tr>\n",
       "  </tbody>\n",
       "</table>\n",
       "</div>"
      ],
      "text/plain": [
       "  model_features     ig_pred_t feature_source\n",
       "0   sfcheadsubrt  42624.421326            nwm"
      ]
     },
     "execution_count": 28,
     "metadata": {},
     "output_type": "execute_result"
    }
   ],
   "source": [
    "pd.DataFrame({'model_features':'sfcheadsubrt', 'ig_pred_t':temp_mean, 'feature_source':'nwm'}, \n",
    "             index=[0])"
   ]
  },
  {
   "cell_type": "code",
   "execution_count": 29,
   "metadata": {},
   "outputs": [
    {
     "name": "stderr",
     "output_type": "stream",
     "text": [
      "/home/jmframe/programs/anaconda3/lib/python3.7/site-packages/pandas/plotting/_matplotlib/core.py:575: UserWarning: The handle <BarContainer object of 36 artists> has a label of '_nolegend_' which cannot be automatically added to the legend.\n",
      "  ax.legend(handles, labels, loc=\"best\", title=title)\n"
     ]
    },
    {
     "data": {
      "image/png": "[encoded data removed]",
      "text/plain": [
       "<Figure size 468x289.44 with 1 Axes>"
      ]
     },
     "metadata": {
      "needs_background": "light"
     },
     "output_type": "display_data"
    }
   ],
   "source": [
    "# get the colors based on the feature source\n",
    "# grab colors for manual plotting\n",
    "prop_cycle = plt.rcParams['axes.prop_cycle']\n",
    "colors = prop_cycle.by_key()['color']\n",
    "colorz=[]\n",
    "for cfs in df_slim.feature_source:\n",
    "    if cfs == 'atm':\n",
    "        colorz.append(colors[1])\n",
    "    if cfs == 'nwm_state':\n",
    "        colorz.append(colors[0])\n",
    "    if cfs == 'nwm_flux':\n",
    "        colorz.append(colors[2])\n",
    "    if cfs == 'cam':\n",
    "        colorz.append(colors[3])\n",
    "\n",
    "# Make a good looking plot\n",
    "mpl.rcParams.update({'font.size': 9})\n",
    "fig, ax = plt.subplots(figsize=(6.5,4.02))\n",
    "df_slim.plot(kind='bar', x='model_features', y='ig_pred_t', ax=ax, \\\n",
    "        color=colorz, label='_nolegend_')\n",
    "plt.ylabel('Relative integrated gradient')\n",
    "plt.xlabel('')\n",
    "ax.grid(b=None, which='major', axis='y')\n",
    "ax.set_yticklabels([])\n",
    "ax.tick_params(direction='in', length=0, width=0, colors='k',\n",
    "              grid_color='k', grid_alpha=0.5)\n",
    "\n",
    "labelz = ['NWM States','NWM Fluxes', 'catchment characteristics']\n",
    "colorz = [colors[0], colors[2], colors[3]]\n",
    "for ilab, icol in zip(labelz,colorz):\n",
    "    #Plot invisible bar graph but have the legends specified\n",
    "    ax.bar(model_features, sum_all_ig_pred_t,width=0,color=icol,label=ilab)\n",
    "ax.legend(loc='upper left')\n",
    "#plt.title('Input attributions for LSTM+NWM post processor predictions')\n",
    "plt.tight_layout()\n",
    "#plt.savefig(MAIN_DIR+'igs_plots/igs_bar_all.png')\n",
    "plt.show()\n",
    "plt.close()"
   ]
  },
  {
   "cell_type": "code",
   "execution_count": 30,
   "metadata": {},
   "outputs": [
    {
     "data": {
      "text/html": [
       "<div>\n",
       "<style scoped>\n",
       "    .dataframe tbody tr th:only-of-type {\n",
       "        vertical-align: middle;\n",
       "    }\n",
       "\n",
       "    .dataframe tbody tr th {\n",
       "        vertical-align: top;\n",
       "    }\n",
       "\n",
       "    .dataframe thead th {\n",
       "        text-align: right;\n",
       "    }\n",
       "</style>\n",
       "<table border=\"1\" class=\"dataframe\">\n",
       "  <thead>\n",
       "    <tr style=\"text-align: right;\">\n",
       "      <th></th>\n",
       "      <th>model_features</th>\n",
       "      <th>feature_source</th>\n",
       "      <th>ig_pred_t</th>\n",
       "      <th>index</th>\n",
       "    </tr>\n",
       "  </thead>\n",
       "  <tbody>\n",
       "    <tr>\n",
       "      <td>0</td>\n",
       "      <td>lai_diff</td>\n",
       "      <td>cam</td>\n",
       "      <td>12204.587170</td>\n",
       "      <td>31.0</td>\n",
       "    </tr>\n",
       "    <tr>\n",
       "      <td>1</td>\n",
       "      <td>gvf_diff</td>\n",
       "      <td>cam</td>\n",
       "      <td>18241.064978</td>\n",
       "      <td>33.0</td>\n",
       "    </tr>\n",
       "    <tr>\n",
       "      <td>2</td>\n",
       "      <td>elev_mean</td>\n",
       "      <td>cam</td>\n",
       "      <td>19173.873913</td>\n",
       "      <td>26.0</td>\n",
       "    </tr>\n",
       "    <tr>\n",
       "      <td>3</td>\n",
       "      <td>soil_depth_pelletier</td>\n",
       "      <td>cam</td>\n",
       "      <td>20305.687829</td>\n",
       "      <td>34.0</td>\n",
       "    </tr>\n",
       "    <tr>\n",
       "      <td>4</td>\n",
       "      <td>qBucket</td>\n",
       "      <td>nwm_flux</td>\n",
       "      <td>20628.305151</td>\n",
       "      <td>2.0</td>\n",
       "    </tr>\n",
       "    <tr>\n",
       "      <td>5</td>\n",
       "      <td>sfcheadsubrt</td>\n",
       "      <td>nwm_state</td>\n",
       "      <td>22005.855055</td>\n",
       "      <td>NaN</td>\n",
       "    </tr>\n",
       "    <tr>\n",
       "      <td>6</td>\n",
       "      <td>soil_conductivity</td>\n",
       "      <td>cam</td>\n",
       "      <td>22407.518824</td>\n",
       "      <td>37.0</td>\n",
       "    </tr>\n",
       "    <tr>\n",
       "      <td>7</td>\n",
       "      <td>clay_frac</td>\n",
       "      <td>cam</td>\n",
       "      <td>22891.043223</td>\n",
       "      <td>41.0</td>\n",
       "    </tr>\n",
       "    <tr>\n",
       "      <td>8</td>\n",
       "      <td>sand_frac</td>\n",
       "      <td>cam</td>\n",
       "      <td>23197.814638</td>\n",
       "      <td>39.0</td>\n",
       "    </tr>\n",
       "    <tr>\n",
       "      <td>9</td>\n",
       "      <td>lai_max</td>\n",
       "      <td>cam</td>\n",
       "      <td>24173.823954</td>\n",
       "      <td>30.0</td>\n",
       "    </tr>\n",
       "    <tr>\n",
       "      <td>10</td>\n",
       "      <td>gvf_max</td>\n",
       "      <td>cam</td>\n",
       "      <td>24546.040147</td>\n",
       "      <td>32.0</td>\n",
       "    </tr>\n",
       "    <tr>\n",
       "      <td>11</td>\n",
       "      <td>area_gages2</td>\n",
       "      <td>cam</td>\n",
       "      <td>24875.457741</td>\n",
       "      <td>28.0</td>\n",
       "    </tr>\n",
       "    <tr>\n",
       "      <td>12</td>\n",
       "      <td>silt_frac</td>\n",
       "      <td>cam</td>\n",
       "      <td>25917.821534</td>\n",
       "      <td>40.0</td>\n",
       "    </tr>\n",
       "    <tr>\n",
       "      <td>13</td>\n",
       "      <td>max_water_content</td>\n",
       "      <td>cam</td>\n",
       "      <td>26352.711451</td>\n",
       "      <td>38.0</td>\n",
       "    </tr>\n",
       "    <tr>\n",
       "      <td>14</td>\n",
       "      <td>zwattablrt</td>\n",
       "      <td>nwm_state</td>\n",
       "      <td>26506.818014</td>\n",
       "      <td>NaN</td>\n",
       "    </tr>\n",
       "    <tr>\n",
       "      <td>15</td>\n",
       "      <td>frac_forest</td>\n",
       "      <td>cam</td>\n",
       "      <td>26859.533869</td>\n",
       "      <td>29.0</td>\n",
       "    </tr>\n",
       "    <tr>\n",
       "      <td>16</td>\n",
       "      <td>qBtmVertRunoff</td>\n",
       "      <td>nwm_flux</td>\n",
       "      <td>27133.006211</td>\n",
       "      <td>3.0</td>\n",
       "    </tr>\n",
       "    <tr>\n",
       "      <td>17</td>\n",
       "      <td>SNEQV</td>\n",
       "      <td>nwm_flux</td>\n",
       "      <td>27149.036670</td>\n",
       "      <td>10.0</td>\n",
       "    </tr>\n",
       "    <tr>\n",
       "      <td>18</td>\n",
       "      <td>soil_porosity</td>\n",
       "      <td>cam</td>\n",
       "      <td>27204.476352</td>\n",
       "      <td>36.0</td>\n",
       "    </tr>\n",
       "    <tr>\n",
       "      <td>19</td>\n",
       "      <td>soil_depth_statsgo</td>\n",
       "      <td>cam</td>\n",
       "      <td>27630.895231</td>\n",
       "      <td>35.0</td>\n",
       "    </tr>\n",
       "    <tr>\n",
       "      <td>20</td>\n",
       "      <td>carbonate_rocks_frac</td>\n",
       "      <td>cam</td>\n",
       "      <td>29172.514190</td>\n",
       "      <td>42.0</td>\n",
       "    </tr>\n",
       "    <tr>\n",
       "      <td>21</td>\n",
       "      <td>slope_mean</td>\n",
       "      <td>cam</td>\n",
       "      <td>29815.997160</td>\n",
       "      <td>27.0</td>\n",
       "    </tr>\n",
       "    <tr>\n",
       "      <td>22</td>\n",
       "      <td>HFX</td>\n",
       "      <td>nwm_flux</td>\n",
       "      <td>34772.393935</td>\n",
       "      <td>8.0</td>\n",
       "    </tr>\n",
       "    <tr>\n",
       "      <td>23</td>\n",
       "      <td>FSA</td>\n",
       "      <td>nwm_flux</td>\n",
       "      <td>35684.087670</td>\n",
       "      <td>6.0</td>\n",
       "    </tr>\n",
       "    <tr>\n",
       "      <td>24</td>\n",
       "      <td>FSNO</td>\n",
       "      <td>nwm_state</td>\n",
       "      <td>36030.133067</td>\n",
       "      <td>7.0</td>\n",
       "    </tr>\n",
       "    <tr>\n",
       "      <td>25</td>\n",
       "      <td>LH</td>\n",
       "      <td>nwm_flux</td>\n",
       "      <td>39217.394512</td>\n",
       "      <td>9.0</td>\n",
       "    </tr>\n",
       "    <tr>\n",
       "      <td>26</td>\n",
       "      <td>ACCET</td>\n",
       "      <td>nwm_state</td>\n",
       "      <td>39370.490227</td>\n",
       "      <td>4.0</td>\n",
       "    </tr>\n",
       "    <tr>\n",
       "      <td>27</td>\n",
       "      <td>qSfcLatRunoff</td>\n",
       "      <td>nwm_flux</td>\n",
       "      <td>40387.849084</td>\n",
       "      <td>1.0</td>\n",
       "    </tr>\n",
       "    <tr>\n",
       "      <td>28</td>\n",
       "      <td>SNOWH</td>\n",
       "      <td>nwm_state</td>\n",
       "      <td>40797.864912</td>\n",
       "      <td>11.0</td>\n",
       "    </tr>\n",
       "    <tr>\n",
       "      <td>29</td>\n",
       "      <td>SOIL_W</td>\n",
       "      <td>nwm_state</td>\n",
       "      <td>42624.421326</td>\n",
       "      <td>NaN</td>\n",
       "    </tr>\n",
       "    <tr>\n",
       "      <td>30</td>\n",
       "      <td>geol_permeability</td>\n",
       "      <td>cam</td>\n",
       "      <td>44171.885337</td>\n",
       "      <td>43.0</td>\n",
       "    </tr>\n",
       "    <tr>\n",
       "      <td>31</td>\n",
       "      <td>TRAD</td>\n",
       "      <td>nwm_state</td>\n",
       "      <td>65102.719047</td>\n",
       "      <td>20.0</td>\n",
       "    </tr>\n",
       "    <tr>\n",
       "      <td>32</td>\n",
       "      <td>SOIL_M</td>\n",
       "      <td>nwm_state</td>\n",
       "      <td>69842.173750</td>\n",
       "      <td>NaN</td>\n",
       "    </tr>\n",
       "    <tr>\n",
       "      <td>33</td>\n",
       "      <td>FIRA</td>\n",
       "      <td>nwm_flux</td>\n",
       "      <td>78223.794940</td>\n",
       "      <td>5.0</td>\n",
       "    </tr>\n",
       "    <tr>\n",
       "      <td>34</td>\n",
       "      <td>UGDRNOFF</td>\n",
       "      <td>nwm_state</td>\n",
       "      <td>80202.329252</td>\n",
       "      <td>21.0</td>\n",
       "    </tr>\n",
       "    <tr>\n",
       "      <td>35</td>\n",
       "      <td>q_lateral</td>\n",
       "      <td>nwm_flux</td>\n",
       "      <td>118506.442370</td>\n",
       "      <td>0.0</td>\n",
       "    </tr>\n",
       "  </tbody>\n",
       "</table>\n",
       "</div>"
      ],
      "text/plain": [
       "          model_features feature_source      ig_pred_t  index\n",
       "0               lai_diff            cam   12204.587170   31.0\n",
       "1               gvf_diff            cam   18241.064978   33.0\n",
       "2              elev_mean            cam   19173.873913   26.0\n",
       "3   soil_depth_pelletier            cam   20305.687829   34.0\n",
       "4                qBucket       nwm_flux   20628.305151    2.0\n",
       "5           sfcheadsubrt      nwm_state   22005.855055    NaN\n",
       "6      soil_conductivity            cam   22407.518824   37.0\n",
       "7              clay_frac            cam   22891.043223   41.0\n",
       "8              sand_frac            cam   23197.814638   39.0\n",
       "9                lai_max            cam   24173.823954   30.0\n",
       "10               gvf_max            cam   24546.040147   32.0\n",
       "11           area_gages2            cam   24875.457741   28.0\n",
       "12             silt_frac            cam   25917.821534   40.0\n",
       "13     max_water_content            cam   26352.711451   38.0\n",
       "14            zwattablrt      nwm_state   26506.818014    NaN\n",
       "15           frac_forest            cam   26859.533869   29.0\n",
       "16        qBtmVertRunoff       nwm_flux   27133.006211    3.0\n",
       "17                 SNEQV       nwm_flux   27149.036670   10.0\n",
       "18         soil_porosity            cam   27204.476352   36.0\n",
       "19    soil_depth_statsgo            cam   27630.895231   35.0\n",
       "20  carbonate_rocks_frac            cam   29172.514190   42.0\n",
       "21            slope_mean            cam   29815.997160   27.0\n",
       "22                   HFX       nwm_flux   34772.393935    8.0\n",
       "23                   FSA       nwm_flux   35684.087670    6.0\n",
       "24                  FSNO      nwm_state   36030.133067    7.0\n",
       "25                    LH       nwm_flux   39217.394512    9.0\n",
       "26                 ACCET      nwm_state   39370.490227    4.0\n",
       "27         qSfcLatRunoff       nwm_flux   40387.849084    1.0\n",
       "28                 SNOWH      nwm_state   40797.864912   11.0\n",
       "29                SOIL_W      nwm_state   42624.421326    NaN\n",
       "30     geol_permeability            cam   44171.885337   43.0\n",
       "31                  TRAD      nwm_state   65102.719047   20.0\n",
       "32                SOIL_M      nwm_state   69842.173750    NaN\n",
       "33                  FIRA       nwm_flux   78223.794940    5.0\n",
       "34              UGDRNOFF      nwm_state   80202.329252   21.0\n",
       "35             q_lateral       nwm_flux  118506.442370    0.0"
      ]
     },
     "execution_count": 30,
     "metadata": {},
     "output_type": "execute_result"
    }
   ],
   "source": [
    "df_slim"
   ]
  },
  {
   "cell_type": "code",
   "execution_count": null,
   "metadata": {},
   "outputs": [],
   "source": []
  }
 ],
 "metadata": {
  "kernelspec": {
   "display_name": "Python 3",
   "language": "python",
   "name": "python3"
  },
  "language_info": {
   "codemirror_mode": {
    "name": "ipython",
    "version": 3
   },
   "file_extension": ".py",
   "mimetype": "text/x-python",
   "name": "python",
   "nbconvert_exporter": "python",
   "pygments_lexer": "ipython3",
   "version": "3.7.6"
  }
 },
 "nbformat": 4,
 "nbformat_minor": 4
}
